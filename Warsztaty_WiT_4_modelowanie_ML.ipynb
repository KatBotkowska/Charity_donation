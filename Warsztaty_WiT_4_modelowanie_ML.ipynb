{
  "nbformat": 4,
  "nbformat_minor": 0,
  "metadata": {
    "kernelspec": {
      "display_name": "Python 3",
      "language": "python",
      "name": "python3"
    },
    "language_info": {
      "codemirror_mode": {
        "name": "ipython",
        "version": 3
      },
      "file_extension": ".py",
      "mimetype": "text/x-python",
      "name": "python",
      "nbconvert_exporter": "python",
      "pygments_lexer": "ipython3",
      "version": "3.7.4"
    },
    "colab": {
      "name": "Warsztaty_WiT_4_modelowanie_ML.ipynb",
      "provenance": [],
      "collapsed_sections": [],
      "include_colab_link": true
    }
  },
  "cells": [
    {
      "cell_type": "markdown",
      "metadata": {
        "id": "view-in-github",
        "colab_type": "text"
      },
      "source": [
        "<a href=\"https://colab.research.google.com/github/KatBotkowska/Charity_donation/blob/master/Warsztaty_WiT_4_modelowanie_ML.ipynb\" target=\"_parent\"><img src=\"https://colab.research.google.com/assets/colab-badge.svg\" alt=\"Open In Colab\"/></a>"
      ]
    },
    {
      "cell_type": "markdown",
      "metadata": {
        "id": "V2GG8ipICHkM"
      },
      "source": [
        "## **WARSZTAT NR 4**\n",
        "\n",
        "### **Podstawy modelowania w Pythonie**"
      ]
    },
    {
      "cell_type": "markdown",
      "metadata": {
        "id": "gtf6bmI5CHkZ"
      },
      "source": [
        "Do modelowania w Pythonie służą między innymi biblioteki <span style=\"background-color:yellow\">**scikit-learn**</span> zawierająca algorytmy klasyfikacji, regresji i klastrowania oraz <span style=\"background-color:yellow\">**statsmodels**</span> pozwalająca szacować modele statystyczne i przeprowadzać testy statystyczne.\n",
        "\n",
        "Dziś zajmiemy się modelem regresji liniowej, który pozwala dopasować liniową krzywą regresji do danych pomiarowych. Zakładamy, że pomiędzy X (zmienną/zmiennymi niezależnymi) a y (zmienną zależną, którą chcemy przewidywać) istnieje liniowa zależność.\n",
        "\n",
        "Dokumentacja:\n",
        "\n",
        "scikit-learn https://scikit-learn.org/stable/\n",
        "\n",
        "statsmodels https://www.statsmodels.org/stable/index.html"
      ]
    },
    {
      "cell_type": "markdown",
      "metadata": {
        "id": "mMcv94QiCHkb"
      },
      "source": [
        "Typy regresji:\n",
        "    \n",
        "- liniowa https://scikit-learn.org/stable/modules/generated/sklearn.linear_model.LinearRegression.html\n",
        "- Ridge https://scikit-learn.org/stable/modules/generated/sklearn.linear_model.Ridge.html\n",
        "- Lasso https://scikit-learn.org/stable/modules/generated/sklearn.linear_model.Lasso.html\n",
        "- Elastic Net https://scikit-learn.org/stable/modules/generated/sklearn.linear_model.ElasticNet.html"
      ]
    },
    {
      "cell_type": "markdown",
      "metadata": {
        "id": "nftmkuZLCHkb"
      },
      "source": [
        "Kolejne kroki:\n",
        "\n",
        "- Konstruujemy y - zmienną zależną,\n",
        "- Konstruujemy macierz X zmiennych niezależnych,\n",
        "- Dodajemy stałą (intercept), tj. oczekiwaną wartość średnią y dla X = 0,\n",
        "- Modelowanie regresji,\n",
        "- Analiza/wizualizacja wyników,\n",
        "- Ewentualnie: tuning modelu..."
      ]
    },
    {
      "cell_type": "code",
      "metadata": {
        "colab": {
          "base_uri": "https://localhost:8080/"
        },
        "id": "tVpMTLRKCHkc",
        "outputId": "4d96b39c-2530-4b7e-bd18-15074e30280f"
      },
      "source": [
        "# Na początek importujemy potrzebne biblioteki.\n",
        "import numpy as np\n",
        "import pandas as pd\n",
        "import seaborn as sns\n",
        "import matplotlib.pyplot as plt # importujemy jako 'plt', dla uproszczenia\n",
        "from sklearn.linear_model import LinearRegression\n",
        "import statsmodels.api as sm\n",
        "import sklearn.metrics as metrics\n",
        "import seaborn as sns"
      ],
      "execution_count": 2,
      "outputs": [
        {
          "output_type": "stream",
          "text": [
            "/usr/local/lib/python3.7/dist-packages/statsmodels/tools/_testing.py:19: FutureWarning: pandas.util.testing is deprecated. Use the functions in the public API at pandas.testing instead.\n",
            "  import pandas.util.testing as tm\n"
          ],
          "name": "stderr"
        }
      ]
    },
    {
      "cell_type": "code",
      "metadata": {
        "colab": {
          "base_uri": "https://localhost:8080/"
        },
        "id": "hqDwSSzWplTI",
        "outputId": "4e0d9f34-c5f7-48ab-c12b-edd85e858df2"
      },
      "source": [
        "#podłączenie google drive\n",
        "from google.colab import drive\n",
        "drive.mount('/content/gdrive')"
      ],
      "execution_count": 1,
      "outputs": [
        {
          "output_type": "stream",
          "text": [
            "Mounted at /content/gdrive\n"
          ],
          "name": "stdout"
        }
      ]
    },
    {
      "cell_type": "code",
      "metadata": {
        "id": "dqqUSfiJQ-oQ"
      },
      "source": [
        "data = pd.read_csv('/content/gdrive/MyDrive/WiT_workshops/[datasets]/PRSA_Data_Aotizhongxin_20130301-20170228.csv', sep=',')\n",
        "data_2=pd.read_csv('/content/gdrive/MyDrive/WiT_workshops/[datasets]/PRSA_Data_Changping_20130301-20170228.csv', sep=',')\n",
        "data_3 = pd.read_csv('/content/gdrive/MyDrive/WiT_workshops/[datasets]/PRSA_Data_Tiantan_20130301-20170228.csv', sep=',')"
      ],
      "execution_count": 3,
      "outputs": []
    },
    {
      "cell_type": "code",
      "metadata": {
        "id": "Ce3QvyFfCHkd"
      },
      "source": [
        "# Importujemy i przygotowujemy potrzebne zbiory danych.\n",
        "#data = pd.read_csv('PRSA_Data_Aotizhongxin_20130301-20170228.csv', sep=',')\n",
        "data.rename({'PM2.5': 'PM2_5'}, axis=1, inplace=True)\n",
        "data['PM10'].fillna(data['PM10'].median(), inplace=True)\n",
        "data['PM2_5'].fillna(data['PM2_5'].median(), inplace=True)\n",
        "data['SO2'].fillna(data['SO2'].median(), inplace=True)\n",
        "data['NO2'].fillna(data['NO2'].mean(), inplace=True)\n",
        "data['CO'].fillna(data['CO'].median(), inplace=True)\n",
        "data['O3'].fillna(data['O3'].median(), inplace=True)"
      ],
      "execution_count": 4,
      "outputs": []
    },
    {
      "cell_type": "code",
      "metadata": {
        "colab": {
          "base_uri": "https://localhost:8080/",
          "height": 419
        },
        "id": "6ERwNrTcCHkd",
        "outputId": "f1cb7d1e-ec63-4174-a677-4831beb1e2ea"
      },
      "source": [
        "data2015 = data.loc[data['year'] == 2015]\n",
        "data2015"
      ],
      "execution_count": 5,
      "outputs": [
        {
          "output_type": "execute_result",
          "data": {
            "text/html": [
              "<div>\n",
              "<style scoped>\n",
              "    .dataframe tbody tr th:only-of-type {\n",
              "        vertical-align: middle;\n",
              "    }\n",
              "\n",
              "    .dataframe tbody tr th {\n",
              "        vertical-align: top;\n",
              "    }\n",
              "\n",
              "    .dataframe thead th {\n",
              "        text-align: right;\n",
              "    }\n",
              "</style>\n",
              "<table border=\"1\" class=\"dataframe\">\n",
              "  <thead>\n",
              "    <tr style=\"text-align: right;\">\n",
              "      <th></th>\n",
              "      <th>No</th>\n",
              "      <th>year</th>\n",
              "      <th>month</th>\n",
              "      <th>day</th>\n",
              "      <th>hour</th>\n",
              "      <th>PM2_5</th>\n",
              "      <th>PM10</th>\n",
              "      <th>SO2</th>\n",
              "      <th>NO2</th>\n",
              "      <th>CO</th>\n",
              "      <th>O3</th>\n",
              "      <th>TEMP</th>\n",
              "      <th>PRES</th>\n",
              "      <th>DEWP</th>\n",
              "      <th>RAIN</th>\n",
              "      <th>wd</th>\n",
              "      <th>WSPM</th>\n",
              "      <th>station</th>\n",
              "    </tr>\n",
              "  </thead>\n",
              "  <tbody>\n",
              "    <tr>\n",
              "      <th>16104</th>\n",
              "      <td>16105</td>\n",
              "      <td>2015</td>\n",
              "      <td>1</td>\n",
              "      <td>1</td>\n",
              "      <td>0</td>\n",
              "      <td>13.0</td>\n",
              "      <td>50.0</td>\n",
              "      <td>19.0</td>\n",
              "      <td>29.0</td>\n",
              "      <td>500.0</td>\n",
              "      <td>28.0</td>\n",
              "      <td>-1.0</td>\n",
              "      <td>1027.0</td>\n",
              "      <td>-22.4</td>\n",
              "      <td>0.0</td>\n",
              "      <td>NNW</td>\n",
              "      <td>4.4</td>\n",
              "      <td>Aotizhongxin</td>\n",
              "    </tr>\n",
              "    <tr>\n",
              "      <th>16105</th>\n",
              "      <td>16106</td>\n",
              "      <td>2015</td>\n",
              "      <td>1</td>\n",
              "      <td>1</td>\n",
              "      <td>1</td>\n",
              "      <td>11.0</td>\n",
              "      <td>30.0</td>\n",
              "      <td>15.0</td>\n",
              "      <td>31.0</td>\n",
              "      <td>600.0</td>\n",
              "      <td>27.0</td>\n",
              "      <td>-1.0</td>\n",
              "      <td>1027.0</td>\n",
              "      <td>-23.7</td>\n",
              "      <td>0.0</td>\n",
              "      <td>N</td>\n",
              "      <td>5.6</td>\n",
              "      <td>Aotizhongxin</td>\n",
              "    </tr>\n",
              "    <tr>\n",
              "      <th>16106</th>\n",
              "      <td>16107</td>\n",
              "      <td>2015</td>\n",
              "      <td>1</td>\n",
              "      <td>1</td>\n",
              "      <td>2</td>\n",
              "      <td>13.0</td>\n",
              "      <td>33.0</td>\n",
              "      <td>16.0</td>\n",
              "      <td>32.0</td>\n",
              "      <td>600.0</td>\n",
              "      <td>26.0</td>\n",
              "      <td>-1.0</td>\n",
              "      <td>1028.0</td>\n",
              "      <td>-23.7</td>\n",
              "      <td>0.0</td>\n",
              "      <td>N</td>\n",
              "      <td>4.2</td>\n",
              "      <td>Aotizhongxin</td>\n",
              "    </tr>\n",
              "    <tr>\n",
              "      <th>16107</th>\n",
              "      <td>16108</td>\n",
              "      <td>2015</td>\n",
              "      <td>1</td>\n",
              "      <td>1</td>\n",
              "      <td>3</td>\n",
              "      <td>10.0</td>\n",
              "      <td>29.0</td>\n",
              "      <td>10.0</td>\n",
              "      <td>25.0</td>\n",
              "      <td>500.0</td>\n",
              "      <td>31.0</td>\n",
              "      <td>-1.0</td>\n",
              "      <td>1029.0</td>\n",
              "      <td>-24.4</td>\n",
              "      <td>0.0</td>\n",
              "      <td>N</td>\n",
              "      <td>4.4</td>\n",
              "      <td>Aotizhongxin</td>\n",
              "    </tr>\n",
              "    <tr>\n",
              "      <th>16108</th>\n",
              "      <td>16109</td>\n",
              "      <td>2015</td>\n",
              "      <td>1</td>\n",
              "      <td>1</td>\n",
              "      <td>4</td>\n",
              "      <td>12.0</td>\n",
              "      <td>25.0</td>\n",
              "      <td>14.0</td>\n",
              "      <td>33.0</td>\n",
              "      <td>700.0</td>\n",
              "      <td>24.0</td>\n",
              "      <td>-2.0</td>\n",
              "      <td>1027.0</td>\n",
              "      <td>-23.2</td>\n",
              "      <td>0.0</td>\n",
              "      <td>ENE</td>\n",
              "      <td>1.4</td>\n",
              "      <td>Aotizhongxin</td>\n",
              "    </tr>\n",
              "    <tr>\n",
              "      <th>...</th>\n",
              "      <td>...</td>\n",
              "      <td>...</td>\n",
              "      <td>...</td>\n",
              "      <td>...</td>\n",
              "      <td>...</td>\n",
              "      <td>...</td>\n",
              "      <td>...</td>\n",
              "      <td>...</td>\n",
              "      <td>...</td>\n",
              "      <td>...</td>\n",
              "      <td>...</td>\n",
              "      <td>...</td>\n",
              "      <td>...</td>\n",
              "      <td>...</td>\n",
              "      <td>...</td>\n",
              "      <td>...</td>\n",
              "      <td>...</td>\n",
              "      <td>...</td>\n",
              "    </tr>\n",
              "    <tr>\n",
              "      <th>24859</th>\n",
              "      <td>24860</td>\n",
              "      <td>2015</td>\n",
              "      <td>12</td>\n",
              "      <td>31</td>\n",
              "      <td>19</td>\n",
              "      <td>98.0</td>\n",
              "      <td>148.0</td>\n",
              "      <td>28.0</td>\n",
              "      <td>119.0</td>\n",
              "      <td>2600.0</td>\n",
              "      <td>7.0</td>\n",
              "      <td>-1.4</td>\n",
              "      <td>1026.3</td>\n",
              "      <td>-8.6</td>\n",
              "      <td>0.0</td>\n",
              "      <td>E</td>\n",
              "      <td>1.0</td>\n",
              "      <td>Aotizhongxin</td>\n",
              "    </tr>\n",
              "    <tr>\n",
              "      <th>24860</th>\n",
              "      <td>24861</td>\n",
              "      <td>2015</td>\n",
              "      <td>12</td>\n",
              "      <td>31</td>\n",
              "      <td>20</td>\n",
              "      <td>98.0</td>\n",
              "      <td>165.0</td>\n",
              "      <td>24.0</td>\n",
              "      <td>113.0</td>\n",
              "      <td>3300.0</td>\n",
              "      <td>8.0</td>\n",
              "      <td>-2.5</td>\n",
              "      <td>1026.2</td>\n",
              "      <td>-8.4</td>\n",
              "      <td>0.0</td>\n",
              "      <td>E</td>\n",
              "      <td>1.3</td>\n",
              "      <td>Aotizhongxin</td>\n",
              "    </tr>\n",
              "    <tr>\n",
              "      <th>24861</th>\n",
              "      <td>24862</td>\n",
              "      <td>2015</td>\n",
              "      <td>12</td>\n",
              "      <td>31</td>\n",
              "      <td>21</td>\n",
              "      <td>107.0</td>\n",
              "      <td>187.0</td>\n",
              "      <td>27.0</td>\n",
              "      <td>117.0</td>\n",
              "      <td>4000.0</td>\n",
              "      <td>10.0</td>\n",
              "      <td>-2.7</td>\n",
              "      <td>1025.8</td>\n",
              "      <td>-8.0</td>\n",
              "      <td>0.0</td>\n",
              "      <td>ENE</td>\n",
              "      <td>0.9</td>\n",
              "      <td>Aotizhongxin</td>\n",
              "    </tr>\n",
              "    <tr>\n",
              "      <th>24862</th>\n",
              "      <td>24863</td>\n",
              "      <td>2015</td>\n",
              "      <td>12</td>\n",
              "      <td>31</td>\n",
              "      <td>22</td>\n",
              "      <td>150.0</td>\n",
              "      <td>228.0</td>\n",
              "      <td>38.0</td>\n",
              "      <td>129.0</td>\n",
              "      <td>4900.0</td>\n",
              "      <td>12.0</td>\n",
              "      <td>-3.5</td>\n",
              "      <td>1025.5</td>\n",
              "      <td>-7.6</td>\n",
              "      <td>0.0</td>\n",
              "      <td>ENE</td>\n",
              "      <td>0.4</td>\n",
              "      <td>Aotizhongxin</td>\n",
              "    </tr>\n",
              "    <tr>\n",
              "      <th>24863</th>\n",
              "      <td>24864</td>\n",
              "      <td>2015</td>\n",
              "      <td>12</td>\n",
              "      <td>31</td>\n",
              "      <td>23</td>\n",
              "      <td>193.0</td>\n",
              "      <td>262.0</td>\n",
              "      <td>39.0</td>\n",
              "      <td>127.0</td>\n",
              "      <td>5200.0</td>\n",
              "      <td>12.0</td>\n",
              "      <td>-3.4</td>\n",
              "      <td>1025.2</td>\n",
              "      <td>-7.5</td>\n",
              "      <td>0.0</td>\n",
              "      <td>NE</td>\n",
              "      <td>1.8</td>\n",
              "      <td>Aotizhongxin</td>\n",
              "    </tr>\n",
              "  </tbody>\n",
              "</table>\n",
              "<p>8760 rows × 18 columns</p>\n",
              "</div>"
            ],
            "text/plain": [
              "          No  year  month  day  hour  ...  DEWP  RAIN   wd  WSPM       station\n",
              "16104  16105  2015      1    1     0  ... -22.4   0.0  NNW   4.4  Aotizhongxin\n",
              "16105  16106  2015      1    1     1  ... -23.7   0.0    N   5.6  Aotizhongxin\n",
              "16106  16107  2015      1    1     2  ... -23.7   0.0    N   4.2  Aotizhongxin\n",
              "16107  16108  2015      1    1     3  ... -24.4   0.0    N   4.4  Aotizhongxin\n",
              "16108  16109  2015      1    1     4  ... -23.2   0.0  ENE   1.4  Aotizhongxin\n",
              "...      ...   ...    ...  ...   ...  ...   ...   ...  ...   ...           ...\n",
              "24859  24860  2015     12   31    19  ...  -8.6   0.0    E   1.0  Aotizhongxin\n",
              "24860  24861  2015     12   31    20  ...  -8.4   0.0    E   1.3  Aotizhongxin\n",
              "24861  24862  2015     12   31    21  ...  -8.0   0.0  ENE   0.9  Aotizhongxin\n",
              "24862  24863  2015     12   31    22  ...  -7.6   0.0  ENE   0.4  Aotizhongxin\n",
              "24863  24864  2015     12   31    23  ...  -7.5   0.0   NE   1.8  Aotizhongxin\n",
              "\n",
              "[8760 rows x 18 columns]"
            ]
          },
          "metadata": {
            "tags": []
          },
          "execution_count": 5
        }
      ]
    },
    {
      "cell_type": "code",
      "metadata": {
        "colab": {
          "base_uri": "https://localhost:8080/",
          "height": 594
        },
        "id": "9XnekJ9TCHke",
        "outputId": "c0364f0d-3035-4193-cdf4-d387b1d353f7"
      },
      "source": [
        "# Przypomnijmy sobie związek pomiędzy PM2.5 a PM10 w 2015 roku...\n",
        "sns.set_theme(style='darkgrid')\n",
        "plt.figure(figsize=(15,10))\n",
        "plt.scatter(data2015.PM2_5,data2015.PM10);"
      ],
      "execution_count": 6,
      "outputs": [
        {
          "output_type": "display_data",
          "data": {
            "image/png": "[encoded data removed]",
            "text/plain": [
              "<Figure size 1080x720 with 1 Axes>"
            ]
          },
          "metadata": {
            "tags": []
          }
        }
      ]
    },
    {
      "cell_type": "markdown",
      "metadata": {
        "id": "FXAfLk6BCHke"
      },
      "source": [
        "Przykład prostej regresji liniowej ze scikit-learn:\n",
        "\n",
        "y = c + a*x"
      ]
    },
    {
      "cell_type": "code",
      "metadata": {
        "id": "zklNhsBXCHkf"
      },
      "source": [
        "# Teraz dopasujemy krzywą regresji opisującą tę zależność.\n",
        "x = data2015['PM2_5'].values[:,np.newaxis]\n",
        "y = data2015['PM10'].values\n",
        "\n",
        "# Model regresji liniowej:\n",
        "model = LinearRegression()\n",
        "model.fit(x, y) # dopasowanie\n",
        "y_pred = model.predict(x)\n",
        "\n",
        "# Podsumowanie modelu: \n",
        "r2 = metrics.r2_score(y, y_pred)\n",
        "print('r2: ', r2)\n",
        "mae = metrics.mean_absolute_error(y, y_pred) \n",
        "print('MAE: ', mae)\n",
        "mse = metrics.mean_squared_error(y, y_pred) \n",
        "print('MSE: ', mse)\n",
        "print('RMSE: ', np.sqrt(mse))"
      ],
      "execution_count": null,
      "outputs": []
    },
    {
      "cell_type": "code",
      "metadata": {
        "id": "qcIwE9nmCHkg"
      },
      "source": [
        "# Sprawdźmy na wykresie efekty dopasowania.\n",
        "plt.figure(figsize=(15,10))\n",
        "plt.scatter(x, y) # wykres punktowy zależności PM2.5 oraz PM10\n",
        "plt.plot(x, y_pred, 'k') # dopasowana krzywa regresji\n",
        "plt.show()"
      ],
      "execution_count": null,
      "outputs": []
    },
    {
      "cell_type": "markdown",
      "metadata": {
        "id": "Wh2oHyofCHkg"
      },
      "source": [
        "Przykład ze statsmodels:"
      ]
    },
    {
      "cell_type": "code",
      "metadata": {
        "id": "KjoNx_T0CHkh"
      },
      "source": [
        "# Inne podejście: Ordinary Least Squares\n",
        "x = data2015['PM2_5'].values\n",
        "x2 = sm.add_constant(x) # Ważne, aby nie używać tego samego x - przyda się nam do wizualizacji!\n",
        "y = data2015['PM10'].values\n",
        "model = sm.OLS(y, x2, missing='drop')\n",
        "result = model.fit()\n",
        "print(result.summary())"
      ],
      "execution_count": null,
      "outputs": []
    },
    {
      "cell_type": "code",
      "metadata": {
        "id": "eiitAa7_CHkh"
      },
      "source": [
        "plt.figure(figsize=(15,10))\n",
        "plt.scatter(x, y) # wykres punktowy zależności PM2.5 oraz PM10\n",
        "plt.plot(x, result.fittedvalues, 'k') # dopasowana krzywa regresji"
      ],
      "execution_count": null,
      "outputs": []
    },
    {
      "cell_type": "code",
      "metadata": {
        "id": "J0uZF-7kCHki"
      },
      "source": [
        "# Kiedy nie chcemy tworzyć modelu, tylko podejrzeć trend...\n",
        "plt.figure(figsize=(15,10))\n",
        "sns.regplot(x='PM2_5', y='PM10', data=data2015, scatter_kws={\"color\": \"green\"}, line_kws={\"color\": \"black\"});"
      ],
      "execution_count": null,
      "outputs": []
    },
    {
      "cell_type": "markdown",
      "metadata": {
        "id": "5XGv-57LCHkj"
      },
      "source": [
        "Przykład regresji liniowej dla macierzy zmiennych niezależnych X:\n",
        "\n",
        "y = c + a1 * x1 + a2 * x2 + a3 * x3 ...\n"
      ]
    },
    {
      "cell_type": "code",
      "metadata": {
        "id": "S9x0tJHbCHkj"
      },
      "source": [
        "# Próbujemy przewidywać wartości PM10, znając wartości PM2.5, SO2 i NO2.\n",
        "x = data2015[['PM2_5', 'SO2', 'NO2']]\n",
        "x = sm.add_constant(x)\n",
        "y = data2015['PM10']\n",
        "model = sm.OLS(y, x, missing='drop')\n",
        "result = model.fit()\n",
        "print(result.summary())"
      ],
      "execution_count": null,
      "outputs": []
    },
    {
      "cell_type": "code",
      "metadata": {
        "id": "5-uo0ejmCHkj"
      },
      "source": [
        "plt.figure(figsize=(15,10))\n",
        "plt.plot(y, label=\"real\")\n",
        "plt.plot(result.fittedvalues, label=\"predicted\")\n",
        "plt.legend()\n",
        "plt.axis([16250,16750,0,600]);"
      ],
      "execution_count": null,
      "outputs": []
    },
    {
      "cell_type": "markdown",
      "metadata": {
        "id": "5Y-WnvpXCHkk"
      },
      "source": [
        "# **Podstawy Machine Learning z scikit**"
      ]
    },
    {
      "cell_type": "markdown",
      "metadata": {
        "id": "zikCMLtXCHkk"
      },
      "source": [
        "https://scikit-learn.org/stable/"
      ]
    },
    {
      "cell_type": "markdown",
      "metadata": {
        "id": "1Tqx5Uq1CHkk"
      },
      "source": [
        "https://medium.com/codex/customer-segmentation-with-k-means-in-python-18336fb915be"
      ]
    },
    {
      "cell_type": "code",
      "metadata": {
        "id": "VelCujTVCHkl"
      },
      "source": [
        "import pandas as pd # working with data\n",
        "import numpy as np # working with arrays\n",
        "import matplotlib.pyplot as plt # visualization\n",
        "import seaborn as sb # visualization\n",
        "\n",
        "from sklearn.preprocessing import StandardScaler # data normalization\n",
        "from sklearn.cluster import KMeans # K-means algorithm\n",
        "from sklearn.decomposition import PCA\n",
        "from sklearn.discriminant_analysis import LinearDiscriminantAnalysis\n",
        "\n",
        "plt.rcParams['figure.figsize'] = (20, 10) #https://matplotlib.org/stable/tutorials/introductory/customizing.html\n",
        "plt.style.use('ggplot')\n",
        "sb.set_style('whitegrid')"
      ],
      "execution_count": null,
      "outputs": []
    },
    {
      "cell_type": "code",
      "metadata": {
        "id": "U9olsI0KCHkl"
      },
      "source": [
        "data"
      ],
      "execution_count": null,
      "outputs": []
    },
    {
      "cell_type": "code",
      "metadata": {
        "id": "tFBb2NbTCHkl"
      },
      "source": [
        "data = data.iloc[:,6:11]\n",
        "data"
      ],
      "execution_count": null,
      "outputs": []
    },
    {
      "cell_type": "code",
      "metadata": {
        "id": "OWUpdh8pCHkl"
      },
      "source": [
        "data.describe()"
      ],
      "execution_count": null,
      "outputs": []
    },
    {
      "cell_type": "code",
      "metadata": {
        "id": "j0IODruRCHkm"
      },
      "source": [
        "# Standaryzujemy date\n",
        "#https://scikit-learn.org/stable/modules/generated/sklearn.preprocessing.StandardScaler.html\n",
        "data_s = StandardScaler().fit_transform(data)\n",
        "data"
      ],
      "execution_count": null,
      "outputs": []
    },
    {
      "cell_type": "markdown",
      "metadata": {
        "id": "vxBc_SoeCHkm"
      },
      "source": [
        "### **PCA**"
      ]
    },
    {
      "cell_type": "markdown",
      "metadata": {
        "id": "8nHPqd4QCHkm"
      },
      "source": [
        "https://scikit-learn.org/stable/modules/decomposition.html#decompositions"
      ]
    },
    {
      "cell_type": "code",
      "metadata": {
        "id": "b6KL_9RxCHkn"
      },
      "source": [
        "pca = PCA(n_components=3) #PCA z trzema zmiennymi \n",
        "data_r = pca.fit(data_s).transform(data_s)"
      ],
      "execution_count": null,
      "outputs": []
    },
    {
      "cell_type": "code",
      "metadata": {
        "id": "w3GO9ftYCHkn"
      },
      "source": [
        "data_r"
      ],
      "execution_count": null,
      "outputs": []
    },
    {
      "cell_type": "code",
      "metadata": {
        "id": "wRySU1-QCHkn"
      },
      "source": [
        "data_princ = pd.DataFrame(data = data_r, columns = ['principal_com_1', 'principal_com_2','principal_com_3'])\n",
        "data_princ"
      ],
      "execution_count": null,
      "outputs": []
    },
    {
      "cell_type": "code",
      "metadata": {
        "id": "12vk4YfLCHkn"
      },
      "source": [
        "pca.explained_variance_ratio_ #wyjaśniamy 59+19+12 = 90% wariancji przy pomocy 3 kolumn zamiast 5"
      ],
      "execution_count": null,
      "outputs": []
    },
    {
      "cell_type": "code",
      "metadata": {
        "id": "XtNVQDB_CHko"
      },
      "source": [
        "pca.n_components_  #atrybuty obiektu PCA #TAB"
      ],
      "execution_count": null,
      "outputs": []
    },
    {
      "cell_type": "markdown",
      "metadata": {
        "id": "dFw-2iFXCHko"
      },
      "source": [
        "# **K-means**"
      ]
    },
    {
      "cell_type": "markdown",
      "metadata": {
        "id": "q0nQXCqwCHko"
      },
      "source": [
        "https://scikit-learn.org/stable/modules/clustering.html #k-means"
      ]
    },
    {
      "cell_type": "code",
      "metadata": {
        "id": "B9EMMMvbCHko"
      },
      "source": [
        "clusters = 3 # na ile grup dzielimy zbiór?\n",
        "model = KMeans(init = 'k-means++', \n",
        "               n_clusters = clusters, \n",
        "               n_init = 12)\n",
        "model.fit(data_princ)\n",
        "\n",
        "labels = model.labels_"
      ],
      "execution_count": null,
      "outputs": []
    },
    {
      "cell_type": "code",
      "metadata": {
        "id": "W-ITo7h9CHkp"
      },
      "source": [
        "labels"
      ],
      "execution_count": null,
      "outputs": []
    },
    {
      "cell_type": "code",
      "metadata": {
        "id": "1oxPWonzCHkp"
      },
      "source": [
        "data['cluster_num'] = labels\n",
        "data.head()"
      ],
      "execution_count": null,
      "outputs": []
    },
    {
      "cell_type": "code",
      "metadata": {
        "id": "anvk22arCHkp"
      },
      "source": [
        "#podsumujmy dane i sprawdźmy jakie stworzyły się grupy\n",
        "data.groupby('cluster_num').mean()"
      ],
      "execution_count": null,
      "outputs": []
    },
    {
      "cell_type": "code",
      "metadata": {
        "id": "53Hn0mw3CHkp"
      },
      "source": [
        "sb.scatterplot('PM10', 'O3', \n",
        "               data = data, \n",
        "              # s = area, \n",
        "               hue = 'cluster_num', \n",
        "               palette = 'spring', \n",
        "               alpha = 0.6, \n",
        "               edgecolor = 'darkgrey')"
      ],
      "execution_count": null,
      "outputs": []
    },
    {
      "cell_type": "code",
      "metadata": {
        "id": "tHA6in75CHkq"
      },
      "source": [
        ""
      ],
      "execution_count": null,
      "outputs": []
    }
  ]
}